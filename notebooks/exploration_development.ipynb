{
  "nbformat": 4,
  "nbformat_minor": 0,
  "metadata": {
    "colab": {
      "private_outputs": true,
      "provenance": []
    },
    "kernelspec": {
      "name": "python3",
      "display_name": "Python 3"
    },
    "language_info": {
      "name": "python"
    }
  },
  "cells": [
    {
      "cell_type": "code",
      "execution_count": null,
      "metadata": {
        "id": "Rc12rO0e268g"
      },
      "outputs": [],
      "source": [
        "!wget -O iris.csv https://archive.ics.uci.edu/ml/machine-learning-databases/iris/iris.data > /dev/null 2>&1"
      ]
    },
    {
      "cell_type": "markdown",
      "source": [
        "# Load the data\n",
        "Let's break down the command:\n",
        "\n",
        "!: The exclamation mark at the beginning is often used in environments like Jupyter notebooks to run shell commands. It might not be necessary if you're already in a Unix-like shell.\n",
        "\n",
        "wget: This is a free utility for non-interactive download of files from the web. It supports HTTP, HTTPS, and FTP protocols, as well as retrieval through HTTP proxies.\n",
        "\n",
        "-O iris.csv: The -O option in wget command is used to specify the name of the file that the content is downloaded to. In this case, the content being downloaded will be saved as iris.csv.\n",
        "\n",
        "https://archive.ics.uci.edu/ml/machine-learning-databases/iris/iris.data: This is the URL of the file that you are downloading. It appears to be a dataset on iris flowers from the UCI Machine Learning Repository.\n",
        "\n",
        "\\> /dev/null 2>&1: This is redirecting the output of the command. > /dev/null redirects the standard output (stdout) to /dev/null, which discards it. 2>&1 then redirects the standard error (stderr, denoted by the number 2) to stdout (denoted by the number 1), effectively discarding both standard output and standard error by sending them to /dev/null. This is commonly used to suppress output from a command.\n",
        "\n",
        "So, put all together, this command downloads the file at the given URL and saves it as iris.csv, suppressing any output from the command."
      ],
      "metadata": {
        "id": "UY5QCTnG2_Sv"
      }
    },
    {
      "cell_type": "code",
      "source": [
        "import pandas as pd\n",
        "\n",
        "df = pd.read_csv('iris.csv')\n",
        "df"
      ],
      "metadata": {
        "id": "9iXDdSLB3Ub1"
      },
      "execution_count": null,
      "outputs": []
    },
    {
      "cell_type": "markdown",
      "source": [
        "Using the pandas library to load a CSV file into a DataFrame. Here's a breakdown of each line:\n",
        "\n",
        "1. `import pandas as pd`: This imports the pandas library and gives it the alias `pd`. Pandas is a widely used data manipulation library in Python. It's particularly good at handling tabular data with heterogeneously-typed columns.\n",
        "\n",
        "2. `df = pd.read_csv('iris.csv')`: The `read_csv` function is used to read a CSV (comma-separated values) file and convert it into a DataFrame. In this case, the CSV file 'iris.csv' is loaded into a DataFrame. The resulting DataFrame is stored in the variable `df`.\n",
        "\n",
        "3. `df`: This line is just calling the variable `df` which is your DataFrame. If this script is run in a Python interpreter or Jupyter notebook, it will print the DataFrame to the console. Depending on the environment, it might show the whole DataFrame or just the first few and last few rows if the DataFrame is large."
      ],
      "metadata": {
        "id": "zhXvQaJL_Gwq"
      }
    },
    {
      "cell_type": "code",
      "source": [
        "# Display the first 5 lines\n",
        "df.head()"
      ],
      "metadata": {
        "id": "DZfD0S3XA3yw"
      },
      "execution_count": null,
      "outputs": []
    },
    {
      "cell_type": "code",
      "source": [
        "# Randomly sample the dataframe\n",
        "df.sample(10)"
      ],
      "metadata": {
        "id": "EOLj2pg-A8Ev"
      },
      "execution_count": null,
      "outputs": []
    },
    {
      "cell_type": "code",
      "source": [
        "# Some simple statistics to describe the dataframe\n",
        "df.describe()"
      ],
      "metadata": {
        "id": "WCP_sYTHAjJs"
      },
      "execution_count": null,
      "outputs": []
    },
    {
      "cell_type": "code",
      "source": [
        "# What are the column names\n",
        "df.columns"
      ],
      "metadata": {
        "id": "CUEAI9B7BNI9"
      },
      "execution_count": null,
      "outputs": []
    },
    {
      "cell_type": "markdown",
      "source": [
        "Umm... that doesnt look right.  Meant to have\n",
        "\n",
        "   1. sepal length in cm\n",
        "   2. sepal width in cm\n",
        "   3. petal length in cm\n",
        "   4. petal width in cm\n",
        "   5. class: \n",
        "      - Iris Setosa\n",
        "      - Iris Versicolour\n",
        "      - Iris Virginica\n",
        "\n",
        "Lets reload the data witht he column names\n"
      ],
      "metadata": {
        "id": "rDlbSC7gBbBm"
      }
    },
    {
      "cell_type": "code",
      "source": [
        "columns = ['Sepal Length', 'Sepal Width', 'Petal Length', 'Petal Width', 'Species']\n",
        "df = pd.read_csv('iris.csv', names=columns)\n",
        "df"
      ],
      "metadata": {
        "id": "S4B92Hl0-o0S"
      },
      "execution_count": null,
      "outputs": []
    },
    {
      "cell_type": "code",
      "source": [
        "# Let's see how many examples we have of each species as well as the data type for \n",
        "# each species\n",
        "df[\"Species\"].value_counts()"
      ],
      "metadata": {
        "id": "vPOIIgDqFJCT"
      },
      "execution_count": null,
      "outputs": []
    },
    {
      "cell_type": "code",
      "source": [
        "# Ayy missing values?  \n",
        "df.isnull()"
      ],
      "metadata": {
        "id": "q_8nATOx_nEG"
      },
      "execution_count": null,
      "outputs": []
    },
    {
      "cell_type": "markdown",
      "source": [
        "The describe() method returns description of the data in the DataFrame.\n",
        "\n",
        "If the DataFrame contains numerical data, the description contains these information for each column:\n",
        "\n",
        "count - The number of not-empty values.\n",
        "mean - The average (mean) value.\n",
        "std - The standard deviation.\n",
        "min - the minimum value.\n",
        "25% - The 25% percentile*.\n",
        "50% - The 50% percentile*.\n",
        "75% - The 75% percentile*.\n",
        "max - the maximum value."
      ],
      "metadata": {
        "id": "dO8m-j2TF27u"
      }
    },
    {
      "cell_type": "code",
      "source": [
        "df.describe()"
      ],
      "metadata": {
        "id": "zWYJ6KsR_x11"
      },
      "execution_count": null,
      "outputs": []
    },
    {
      "cell_type": "markdown",
      "source": [
        "Pandas is a popular data manipulation library in Python that provides a variety of functions for data analysis. Pandas can create several types of plots such as line plots, bar plots, scatter plots, histograms, box plots, pie charts, and area charts¹³. \n",
        "\n",
        "You can use the `plot()` method in Pandas to create these plots. The `plot()` method is a wrapper around the Matplotlib library and provides a simple interface for creating plots¹. \n",
        "\n",
        "Here are some examples of how to create different types of plots using Pandas:\n",
        "\n",
        "- Line plot: `df.plot(kind='line')`\n",
        "- Bar plot: `df.plot(kind='bar')`\n",
        "- Scatter plot: `df.plot(kind='scatter')`\n",
        "- Histogram: `df.plot(kind='hist')`\n",
        "- Box plot: `df.plot(kind='box')`\n",
        "- Pie chart: `df.plot(kind='pie')`\n",
        "- Area chart: `df.plot(kind='area')`¹³ \n"
      ],
      "metadata": {
        "id": "-k4LtdDaIbkW"
      }
    },
    {
      "cell_type": "code",
      "source": [
        "df.plot(kind='box')"
      ],
      "metadata": {
        "id": "0Zhmd-YUHuus"
      },
      "execution_count": null,
      "outputs": []
    },
    {
      "cell_type": "markdown",
      "source": [
        "Seaborn is a Python data visualization library based on matplotlib. It provides a high-level interface for drawing attractive and informative statistical graphics. Seaborn helps you explore and understand your data. It is built on top of matplotlib and integrates closely with pandas data structures. You can use seaborn to visualize data from pandas dataframes or numpy arrays.\n",
        "\n"
      ],
      "metadata": {
        "id": "O3IKg2LxJA78"
      }
    },
    {
      "cell_type": "code",
      "source": [
        "import seaborn as sb\n",
        "# Pair Plot\n",
        "sb.pairplot(df, hue='Species')"
      ],
      "metadata": {
        "id": "hs3CMN8TF84f"
      },
      "execution_count": null,
      "outputs": []
    },
    {
      "cell_type": "markdown",
      "source": [
        "This is a piece of Python code that uses the Seaborn library to create a pair plot. Let's break it down:\n",
        "\n",
        "1. `import seaborn as sb`: This line imports the Seaburn library and gives it an alias `sb`. Seaborn is a Python data visualization library based on matplotlib. It provides a high-level interface for drawing attractive and informative statistical graphics.\n",
        "\n",
        "2. `sb.pairplot(df, hue='Species')`: This line creates a pair plot of the DataFrame `df` using the `pairplot` function from Seaborn. \n",
        "\n",
        "A pair plot is a matrix of scatterplots where each feature in the dataset is compared with every other feature. It's a quick way to visualize the relationships between each variable in your data. The diagonal of this matrix is filled with histograms or KDE plots of each variable, and the other cells contain scatter plots of the variable combinations.\n",
        "\n",
        "The `hue` parameter is used to group the data by some categorical variable. In this case, it's grouping by the 'Species' column in the DataFrame. This means that data points will be colored based on their 'Species' value, which can help in distinguishing between different categories in the data.\n",
        "\n",
        "So, in summary, this code is creating a pair plot of the data in the DataFrame `df`, with data points colored based on their 'Species' value.\n",
        "\n",
        "\n",
        "Look like there are some seperaiton of species and colrrelation in the data.  Lets investigate a little more"
      ],
      "metadata": {
        "id": "WVaRY-laJXY-"
      }
    },
    {
      "cell_type": "code",
      "source": [
        "df.corr()"
      ],
      "metadata": {
        "id": "6wvQZF5eJTNj"
      },
      "execution_count": null,
      "outputs": []
    },
    {
      "cell_type": "markdown",
      "source": [],
      "metadata": {
        "id": "48pN17WLLbxW"
      }
    },
    {
      "cell_type": "code",
      "source": [
        "sb.heatmap(df.corr(), annot=True)"
      ],
      "metadata": {
        "id": "50QdbLAhG8hu"
      },
      "execution_count": null,
      "outputs": []
    },
    {
      "cell_type": "code",
      "source": [],
      "metadata": {
        "id": "fZVuukbPMHMX"
      },
      "execution_count": null,
      "outputs": []
    }
  ]
}