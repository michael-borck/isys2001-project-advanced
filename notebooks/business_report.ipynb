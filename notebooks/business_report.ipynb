{
  "nbformat": 4,
  "nbformat_minor": 0,
  "metadata": {
    "colab": {
      "private_outputs": true,
      "provenance": []
    },
    "kernelspec": {
      "name": "python3",
      "display_name": "Python 3"
    },
    "language_info": {
      "name": "python"
    }
  },
  "cells": [
    {
      "cell_type": "markdown",
      "source": [
        "# Iris Dataset Project\n",
        "##### Iam Student, #123456789\n",
        "##### Monday 1 May 2023\n",
        "\n",
        "## Introduction\n",
        "\n",
        "The Iris, a type of flowering plant, was extensively studied by botanist Edgar Anderson in the Gaspé Peninsula, where he documented various characteristics of numerous iris flowers in a digital format. This dataset gained recognition following its use by biologist and statistician Ronald Fisher in his 1936 paper, *The Use of Multiple Measurements in Taxonomic Problems*. Fisher leveraged this dataset to illustrate the applicability of statistics in classification tasks. He suggested that distinct attributes among the species in this dataset, particularly sepal and petal measurements, could serve as reliable indicators for the identification of different iris groups.   For these reasons the Iris dataset is popular within Data Science and Machine Learning communities. It's often likened to the \"Hello World\" program of programming but in the context of data science.\n",
        "\n",
        "The objective of this report is to explore the hypothesis that this dataset can be utilized for species classification, and to elucidate the reasons for its popularity among the Data Science and Machine Learning communities.\n",
        "\n",
        "## Methodology\n",
        "\n",
        "### Data Collection\n",
        "\n",
        "Data for this project can be obtained from various sources. In this particular instance, the required data was procured from [2]. Following the acquisition, the data was incorporated into a pandas dataframe, positioning it for utilization in subsequent stages.\n",
        "\n"
      ],
      "metadata": {
        "id": "JPfUD7Csxkbp"
      }
    },
    {
      "cell_type": "code",
      "source": [
        "!wget -O iris.csv https://archive.ics.uci.edu/ml/machine-learning-databases/iris/iris.data > /dev/null 2>&1"
      ],
      "metadata": {
        "id": "aYA3yzdt162h"
      },
      "execution_count": null,
      "outputs": []
    },
    {
      "cell_type": "markdown",
      "source": [
        "### Data preperation\n",
        "\n",
        "This involves cleaning up the data, if required - removing errors/duplicates and dealing with null values.  For the Iris dataset this is not necessary, but pandas functions `isnull()` were used to verify the dataset was complete.\n",
        "\n",
        "### Data Exploration\n",
        "\n",
        "Exploratory Data Analysis allows us to better understand the data through statistical and visual analysis in order to form hypotheses and uncover potential patterns in the data [3] \n",
        "\n",
        "For the exploratory portion of the project, the pandas python library was used. To create the visualisation a mixture of *matplotlib*, *seaborn*, and *pandas* was used. The initial analysis and testing of the code was develped in **exploration_development.ipynb** notebook for this exploration.\n",
        "\n",
        "\n",
        "\n"
      ],
      "metadata": {
        "id": "WX4IyKuE14VH"
      }
    },
    {
      "cell_type": "markdown",
      "source": [
        "## Analysis \n",
        "*Pandas* allows us to see that the dataset is comprised of 150 rows and 5 columns; 4 of these columns are float datatypes containing the petal and sepal measurements and the last one is an object datatype that contains the species names. It contains five columns namely – Petal Length, Petal Width, Sepal Length, Sepal Width, and Species Type. There are no null values in the dataset that need to be accounted for in later analysis. Each species has 50 samples.\n",
        "\n",
        "\n"
      ],
      "metadata": {
        "id": "i48PEMBO67tU"
      }
    },
    {
      "cell_type": "code",
      "source": [
        "import pandas as pd\n",
        "columns = ['Sepal Length', 'Sepal Width', 'Petal Length', 'Petal Width', 'Species']\n",
        "df = pd.read_csv('iris.csv', names=columns)\n",
        "print('Table 1: Species Counts')\n",
        "df[\"Species\"].value_counts()"
      ],
      "metadata": {
        "id": "9yZanTPhMxyI"
      },
      "execution_count": null,
      "outputs": []
    },
    {
      "cell_type": "markdown",
      "source": [
        "Below is a sample of 10 entries in the Iris Dataset:\n",
        "\n"
      ],
      "metadata": {
        "id": "Ae9LWulxMu0T"
      }
    },
    {
      "cell_type": "code",
      "source": [
        "print('Table 2: Random Sample of 10 values fromt eh Iris Dataset')\n",
        "df.sample(10)"
      ],
      "metadata": {
        "id": "Q9wvn7gWNSnB"
      },
      "execution_count": null,
      "outputs": []
    },
    {
      "cell_type": "markdown",
      "source": [
        "The *describe* function in *pandas* shows some basic statistics such and means, standard deviations and medians. \n",
        "\n",
        "\n"
      ],
      "metadata": {
        "id": "4BtASKhNNPo5"
      }
    },
    {
      "cell_type": "code",
      "source": [
        "print('Table 3: Statistical Summary of the Iris Dataset')\n",
        "df.describe()"
      ],
      "metadata": {
        "id": "uEBvy4LDNcVB"
      },
      "execution_count": null,
      "outputs": []
    },
    {
      "cell_type": "markdown",
      "source": [
        "## Visualisations\n",
        "It may be beneficial at this stage to visualise the data and the relationships between measurements to see if any patterns emerge. For this I utilised a *seaborn* pair plot which pairs every feature with every other feature, distinguished by object-type. A pair plot outputs a mixture of two-dimensional scatter plots, that show the relationships between measurements, and univariate histograms that show the distribution of each measurement separated by species.\n",
        "\n"
      ],
      "metadata": {
        "id": "F_EbH_va7BC8"
      }
    },
    {
      "cell_type": "code",
      "source": [
        "import seaborn as sb\n",
        "# Pair Plot\n",
        "print('Figure 1: Pairwise plot of Iris Dataset')\n",
        "sb.pairplot(df, hue='Species')"
      ],
      "metadata": {
        "id": "Sg6IRqStO7EQ"
      },
      "execution_count": null,
      "outputs": []
    },
    {
      "cell_type": "markdown",
      "source": [
        "\n",
        "\n",
        "To see how each measurement is distributed by species, a box plot demonstrate distribution differences between petal and sepal values. Petal measurements occupy a much smaller range per species than sepal measurements, which are more spread out. The larger distribution of sepal measurements means there are more outliers and thus more chances for the data to overlap between species, making classification based on sepal measurements more difficult. This, along with the density of petal data, provides further support to the hypothesis from the previous section that suggests the distinctions between species are likely petal-based rather than sepal-based. \n"
      ],
      "metadata": {
        "id": "UquxSsxiOzXF"
      }
    },
    {
      "cell_type": "markdown",
      "source": [
        "### Correlations\n",
        "It appears that a distinction exists between petal and sepal measurements so perhaps there is some internal consistency within them. The *pandas correlation* function tells us more about this:\n",
        "\n"
      ],
      "metadata": {
        "id": "-noBwefx7IOZ"
      }
    },
    {
      "cell_type": "code",
      "source": [
        "print('Table 4: Correlation Matrix of Iris Dataset')\n",
        "df.corr()"
      ],
      "metadata": {
        "id": "E-gfmTvHQMnL"
      },
      "execution_count": null,
      "outputs": []
    },
    {
      "cell_type": "markdown",
      "source": [
        "\n",
        "The correlations can be visualised more easily on the heatmap below. The large amount of red and orange squares show that the majority of measurements are highly correlated with one another, except for sepal width."
      ],
      "metadata": {
        "id": "i6a8BTuLQZ9D"
      }
    },
    {
      "cell_type": "code",
      "source": [
        "sb.heatmap(df.corr(), annot=True)"
      ],
      "metadata": {
        "id": "SY3wtJPnQnOS"
      },
      "execution_count": null,
      "outputs": []
    },
    {
      "cell_type": "markdown",
      "source": [
        "## Discussion\n",
        "\n",
        "From Table 3 we can see the following:\n",
        "* Mean values show that sepal and petal lengths are larger than their respective width measurements and that sepals run larger than petals. So, if we had never seen an iris flower before, we can assume from these figures that petals are smaller than sepals and that both are generally longer than they are wide.\n",
        "* The mean and median values of both sepal measurements are quite similar and the low standard deviations [4] suggest this data may be quite clustered together with datapoints relatively close to the mean. \n",
        "* On the other hand, the mean and median values of both petal measurements are not as close and petal standard deviations are slightly higher than their sepal counterparts, suggesting that there is more variance in the petal data.\n",
        "* The previous two observations suggest that any differences between iris species may be more likely related to petal features rather than sepal.\n",
        "\n",
        "From Figure 1 we see that iris setosa (blue) appears visually to be quite separate from the other two species in virtually all scatter plot feature combinations, but most drastically in petal measurements. While there is quite a bit of observable overlap between versicolor (orange) and virginica (green), particularly in terms of sepal measurements, setosa appears to be significantly linearly distinct. Petal length and width and sepal length in the setosa are significantly smaller than those of either versicolor or virginica, as we can see in the histograms where the setosa data is much closer to the left of each graph.    \n",
        "\n",
        "Also, although versicolor and virginica are not cleanly distinct from one another, again the petal measurements demonstrate a pattern with virginica tending to have longer and wider petals than versicolor. Sepal measurements for these species are much more clustered when examined alone but when paired with petal measurements, distinctions can be seen as those with larger petals seemingly tend to also have larger sepals.\n",
        "\n",
        "From Table 3 we can see that:\n",
        "* Petal length and width are very highly positively correlated (r = 0.96), which tells us that as one gets larger so does the other, indicating that petal length and width have a close relationship.\n",
        "* On the other hand, sepal measurements have a very weak relationship with one another (r = -0.1).\n",
        "* Both petal length and width have very strong positive correlations with sepal length (r = 0.87 and 0.82 respectively) indicating that as both get larger, so does sepal length.\n",
        "* Both petal length and width have fairly weak negative correlations with sepal width (r = -0.42 and -0.36 respectively) indicating there is not much of a relationship between these features. \n",
        "* These correlations tell us that sepal width is not moderately or highly correlated with any other measurement.\n",
        "\n",
        "\n",
        "\n"
      ],
      "metadata": {
        "id": "JvOoTyTW7LGO"
      }
    },
    {
      "cell_type": "markdown",
      "source": [
        "## Conclusion\n",
        "The data analysis performed in this investigation uncovered many interesting details about the iris dataset but the main points of note are:\n",
        "* Iris setosa is linearly distinguishable from both versicolor and virginica. \n",
        "    * If measurements are presented of an iris with short, narrow petals and short but wide sepals, it could be reliably predicted that the particular species is setosa.\n",
        "* Species differentiation largely depends more on petal measurements than sepal measurements.\n",
        "    * Versicolor and virginica are not very distinguishable from one another in terms of sepal measurements but looking at the petal data, virginica irises seem more likely to have longer, wider petals than versicolor. \n",
        "\n",
        "The patterns identified in the data analysis demonstrate why the Iris Dataset is a popular choice for machine learning tutorials; the separability of the species makes the building of a predictive model relatively easy. A machine learning program learns from data provided by previous examples\n",
        "\n"
      ],
      "metadata": {
        "id": "lAE-FBLW7OH2"
      }
    },
    {
      "cell_type": "markdown",
      "source": [
        "## References\n",
        "\n",
        "[1] Pandad Library, https://pandas.pydata.org/\n",
        "\n",
        "[2] Iris Dataset, https://archive-beta.ics.uci.edu/dataset/53/iris\n",
        "\n",
        "[3] Douieb, 2017, https://www.quora.com/What-are-the-steps-include-in-data-exploration. \n",
        "\n",
        "[4] https://www.researchgate.net/post/What_do_you_consider_a_good_standard_deviation\n",
        "\n"
      ],
      "metadata": {
        "id": "LcvMzdObzy6d"
      }
    },
    {
      "cell_type": "code",
      "source": [],
      "metadata": {
        "id": "ZrGBENUy7pnN"
      },
      "execution_count": null,
      "outputs": []
    }
  ]
}